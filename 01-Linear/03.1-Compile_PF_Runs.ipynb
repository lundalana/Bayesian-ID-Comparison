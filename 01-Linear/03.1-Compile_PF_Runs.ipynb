{
 "cells": [
  {
   "cell_type": "code",
   "execution_count": 1,
   "metadata": {},
   "outputs": [],
   "source": [
    "## Standard Imports ##\n",
    "import matplotlib.pyplot as plt\n",
    "import seaborn as sns\n",
    "sns.set_style('white')\n",
    "sns.set_context('talk')\n",
    "\n",
    "import numpy as np\n",
    "import scipy as sp\n",
    "\n",
    "import time as timeit\n",
    "import datetime\n",
    "import sys,os\n",
    "\n",
    "## Particle Filter Imports ##\n",
    "import particles\n",
    "from particles import state_space_models as ssm\n",
    "from particles import smc_samplers as ssp\n",
    "from particles import distributions as dists\n",
    "import warnings; warnings.simplefilter('ignore')  # hide warnings "
   ]
  },
  {
   "cell_type": "markdown",
   "metadata": {},
   "source": [
    "## Compiling the Particle Filter Example\n",
    "Referencing the description to ```03-PF_Example```, the particle filter scheme used in this illustrative study developes a convergent posterior model for the majority of cases using the parameters ```init_Nx = 10``` and ```N = 50```. For those cases which are not convergent under those conditions, the parameters ```init_Nx = 15``` and ```N = 75``` were used. \n",
    "\n",
    "The purpose of this code is then to combine the outputs from these disparate starting conditions to develop a complete example case which includes results for all 50 prior distributions on the parameters. "
   ]
  },
  {
   "cell_type": "markdown",
   "metadata": {},
   "source": [
    "## Compile Results"
   ]
  },
  {
   "cell_type": "code",
   "execution_count": null,
   "metadata": {
    "scrolled": true
   },
   "outputs": [],
   "source": [
    "### Lay Out The Files Holding the PF Results ###\n",
    "pfOutFiles = np.array(['../04-Data/Linear/outputPF_Nx10_Ntheta50.npz',\n",
    "                       '../04-Data/Linear/outputPF_Nx15_Ntheta75.npz'])\n",
    "saveFile = '02 - Results/outputPF'\n",
    "\n",
    "### Generate Storage Over Inferred States/Parameters ###\n",
    "outData = np.load(pfOutFiles[0])\n",
    "muHist = np.zeros(outData['muHist'].shape)\n",
    "    # mean of the inferred parameters for each inference trial\n",
    "    # over the observation period. This is what the EKF directly\n",
    "    # outputs\n",
    "stdHist = np.zeros(outData['stdHist'].shape)\n",
    "    # standard deviation of the inferred parameters for each \n",
    "    # inference trial over the observation period. This is \n",
    "    # what the EKF directly outputs\n",
    "meanHist = np.zeros(outData['meanHist'].shape)\n",
    "    # mean of the inferred states and the underlying parameters\n",
    "    # for each inference trial over the observation period. This\n",
    "    # measure transforms the parameters to a lognormal distribution\n",
    "    # such that the statistics on the true parameter values can be\n",
    "    # extracted. \n",
    "modeHist = np.zeros(outData['modeHist'].shape)\n",
    "    # mode of the inferred states and the underlying parameters\n",
    "    # for each inference trial over the observation period. This\n",
    "    # measure transforms the parameters to a lognormal distribution\n",
    "    # such that the statistics on the true parameter values can be\n",
    "    # extracted. \n",
    "modStates = np.zeros(outData['modStates'].shape)\n",
    "    # Response history of the inferred system given the input\n",
    "    # excitation. Essentially, we're remodeling the behavior of \n",
    "    # the system given our selections on point estimates of the \n",
    "    # parameters from the posterior. \n",
    "runTime = np.zeros(outData['runTime'].shape)\n",
    "    # Computational time for each inference trial. \n",
    "Nx = np.zeros(outData['Nxs'].shape)\n",
    "    # Tracks the increase in number of particles on the parameters\n",
    "    # over the inference history. \n",
    "\n",
    "### Combine Results Files ###\n",
    "for i in range(len(pfOutFiles)):\n",
    "    outData = np.load(pfOutFiles[i])\n",
    "\n",
    "    for j in range(outData['muHist'].shape[0]):\n",
    "        ## If the trial failed to converge, do not include in compiled results\n",
    "        if outData['Nxs'][j,-1] == 0:\n",
    "            continue\n",
    "        ## If the trial converged, include in compiled results\n",
    "        else:\n",
    "            print('Inserting Data from ' + pfOutFiles[i] + '\\n\\t@ Iteration %d:'%(j))\n",
    "\n",
    "            muHist[j,:,:] = outData['muHist'][j,:,:]         # inference history of untransformed state/par means\n",
    "            stdHist[j,:,:] = outData['stdHist'][j,:,:]       # inference history of state/par standard deviations\n",
    "            meanHist[j,:,:] = outData['meanHist'][j,:,:]     # inference history of transformed state/par means\n",
    "            modeHist[j,:,:] = outData['modeHist'][j,:,:]     # inference history of transformed state/par modes\n",
    "            modStates[j,:,:] = outData['modStates'][j,:,:]   # states that have been remodeled based on the final modes of the parameters\n",
    "            Nx[j,:] = outData['Nxs'][j,:]                  # Number of particle sample runs\n",
    "            runTime[j] = outData['runTime'][j]           # Run Time\n",
    "\n",
    "            print('\\tComputation Time = %d minutes and %d seconds' %(np.floor(runTime[j]), \n",
    "                                                            np.floor((runTime[j]*60) - 60*np.floor(runTime[j]))) )\n",
    "            print('\\tMode of Final Parameter Distributions: \\n\\t\\txi = %.4f,\\n\\t\\twn = %.4f\\n'\n",
    "              %(modeHist[j,2,-1],modeHist[j,3,-1]))\n",
    "            \n",
    "### Save Results ###\n",
    "np.savez(saveFile, muHist = muHist,stdHist=stdHist, meanHist=meanHist, modeHist=modeHist, \n",
    "         modStates = modStates, Nx = Nx, runTime = runTime)"
   ]
  }
 ],
 "metadata": {
  "kernelspec": {
   "display_name": "Python 3",
   "language": "python",
   "name": "python3"
  },
  "language_info": {
   "codemirror_mode": {
    "name": "ipython",
    "version": 3
   },
   "file_extension": ".py",
   "mimetype": "text/x-python",
   "name": "python",
   "nbconvert_exporter": "python",
   "pygments_lexer": "ipython3",
   "version": "3.7.9"
  }
 },
 "nbformat": 4,
 "nbformat_minor": 2
}
